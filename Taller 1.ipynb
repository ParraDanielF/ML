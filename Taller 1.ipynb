{
 "cells": [
  {
   "cell_type": "markdown",
   "metadata": {
    "colab_type": "text",
    "id": "view-in-github"
   },
   "source": [
    "<a href=\"https://colab.research.google.com/github/Camilojaravila/202210_MINE-4206_ANALISIS_CON_MACHINE_LEARNING/blob/main/Taller%201/Taller%201.ipynb\" target=\"_parent\"><img src=\"https://colab.research.google.com/assets/colab-badge.svg\" alt=\"Open In Colab\"/></a>"
   ]
  },
  {
   "cell_type": "markdown",
   "metadata": {
    "id": "yF3pUagPpBXi"
   },
   "source": [
    "![banner_AML.jpg](data:image/jpeg;base64,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)"
   ]
  },
  {
   "cell_type": "markdown",
   "metadata": {
    "id": "mGTZhaDaKFw9"
   },
   "source": [
    "En la actualidad, el sector inmobiliario ruso está en pleno auge. Ofrece muchas oportunidades emocionantes y un alto rendimiento en cuanto a estilos de vida e inversiones. El mercado inmobiliario lleva varios años en fase de crecimiento, lo que significa que todavía se pueden encontrar propiedades a precios muy atractivos, pero es muy probable que aumenten en el futuro.\n",
    "Para poder entender el mercado, una inmobiliaria rusa le ha brindado la información de la venta de más de 45 mil inmuebles entre los años de 2018 y 2021. Y quieren entender cuáles son las características principales que inciden en los precios de venta, para poder proponer planes de construcción de inmuebles en las áreas urbanas disponibles, que tomen en cuenta estas características.\n",
    "\n",
    "Para poder tomar decisiones en este estudio, se debe presentar:\n",
    "\n",
    "* Una tabla comparativa, mostrando el rendimiento los tres mejores modelos entrenados con regresión polinomial, ridge y lasso.\n",
    "* Un análisis de las variables que se consideraron importantes en la predicción con base en el modelo lasso.\n",
    "\n",
    "* ¿Cuál sería el rendimiento esperado si se escogiera su modelo a producción?"
   ]
  },
  {
   "cell_type": "markdown",
   "metadata": {
    "id": "rwzeC0Vy5P_M"
   },
   "source": [
    "## Diccionario de Datos"
   ]
  },
  {
   "cell_type": "markdown",
   "metadata": {
    "id": "ySadEGhm5SYh"
   },
   "source": [
    "La inmobiliaria, le ha construido el siguiente diccionario de datos:\n",
    "* date - Fecha de publicación del anuncio.\n",
    "* time - Tiempo que la publicación estuvo activo.\n",
    "* geo_lat - Latitud.\n",
    "* geo_lon - Longitud.\n",
    "* region - Region de Rusia. Hay 85 regiones en total.\n",
    "* building_type - Tipo de Fachada. 0 - Other. 1 - Panel. 2 - Monolithic. 3 - Brick. 4 - Blocky. 5 - Wooden.\n",
    "* object_type - Tipo de Apartmento. 1 - Secondary real estate market; 2 - New building.\n",
    "* level - Piso del Apartamento.\n",
    "* levels - Número de pisos.\n",
    "* rooms - Número de Habitaciones. Si el valor es \"-1\", Significa que es un  \"studio apartment\".\n",
    "* area - Área total del apartamento.\n",
    "* kitchen_area - Área de la Cocina\n",
    "* price - Precio. En rublos"
   ]
  },
  {
   "cell_type": "markdown",
   "metadata": {},
   "source": [
    "# Desarrollo del taller\n",
    "\n",
    "## 1 - Configuración del ambiente"
   ]
  },
  {
   "cell_type": "code",
   "execution_count": 1,
   "metadata": {},
   "outputs": [],
   "source": [
    "# libraries import\n",
    "\n",
    "import pandas as pd\n",
    "import numpy as np\n",
    "\n",
    "#data visualization\n",
    "import matplotlib.pyplot as plt\n",
    "\n",
    "# data profiling\n",
    "from pandas_profiling import ProfileReport\n",
    "\n",
    "# model training\n",
    "from sklearn.model_selection import train_test_split\n",
    "from sklearn import linear_model\n",
    "from sklearn.metrics import mean_squared_error, r2_score\n",
    "from sklearn.linear_model import LinearRegression"
   ]
  },
  {
   "cell_type": "markdown",
   "metadata": {},
   "source": [
    "\n",
    "## 2 - Analísis de los datos\n",
    "### 2.1 - Importación y presentación de los datos"
   ]
  },
  {
   "cell_type": "code",
   "execution_count": 2,
   "metadata": {},
   "outputs": [
    {
     "data": {
      "text/html": [
       "<div>\n",
       "<style scoped>\n",
       "    .dataframe tbody tr th:only-of-type {\n",
       "        vertical-align: middle;\n",
       "    }\n",
       "\n",
       "    .dataframe tbody tr th {\n",
       "        vertical-align: top;\n",
       "    }\n",
       "\n",
       "    .dataframe thead th {\n",
       "        text-align: right;\n",
       "    }\n",
       "</style>\n",
       "<table border=\"1\" class=\"dataframe\">\n",
       "  <thead>\n",
       "    <tr style=\"text-align: right;\">\n",
       "      <th></th>\n",
       "      <th>Unnamed: 0</th>\n",
       "      <th>price</th>\n",
       "      <th>date</th>\n",
       "      <th>time</th>\n",
       "      <th>geo_lat</th>\n",
       "      <th>geo_lon</th>\n",
       "      <th>region</th>\n",
       "      <th>building_type</th>\n",
       "      <th>level</th>\n",
       "      <th>levels</th>\n",
       "      <th>rooms</th>\n",
       "      <th>area</th>\n",
       "      <th>kitchen_area</th>\n",
       "      <th>object_type</th>\n",
       "    </tr>\n",
       "  </thead>\n",
       "  <tbody>\n",
       "    <tr>\n",
       "      <th>0</th>\n",
       "      <td>14040</td>\n",
       "      <td>3900000</td>\n",
       "      <td>2018-09-10</td>\n",
       "      <td>12:40:14</td>\n",
       "      <td>55.786480</td>\n",
       "      <td>49.223459</td>\n",
       "      <td>2922.0</td>\n",
       "      <td>1.0</td>\n",
       "      <td>10.0</td>\n",
       "      <td>11.0</td>\n",
       "      <td>3.0</td>\n",
       "      <td>67.00</td>\n",
       "      <td>8.80</td>\n",
       "      <td>1.0</td>\n",
       "    </tr>\n",
       "    <tr>\n",
       "      <th>1</th>\n",
       "      <td>24608</td>\n",
       "      <td>4250000</td>\n",
       "      <td>2018-09-11</td>\n",
       "      <td>17:26:15</td>\n",
       "      <td>55.905045</td>\n",
       "      <td>37.393578</td>\n",
       "      <td>81.0</td>\n",
       "      <td>1.0</td>\n",
       "      <td>25.0</td>\n",
       "      <td>25.0</td>\n",
       "      <td>1.0</td>\n",
       "      <td>39.00</td>\n",
       "      <td>10.50</td>\n",
       "      <td>1.0</td>\n",
       "    </tr>\n",
       "    <tr>\n",
       "      <th>2</th>\n",
       "      <td>76636</td>\n",
       "      <td>4340360</td>\n",
       "      <td>2018-09-18</td>\n",
       "      <td>02:35:04</td>\n",
       "      <td>59.882717</td>\n",
       "      <td>30.451298</td>\n",
       "      <td>2661.0</td>\n",
       "      <td>0.0</td>\n",
       "      <td>4.0</td>\n",
       "      <td>27.0</td>\n",
       "      <td>1.0</td>\n",
       "      <td>57.11</td>\n",
       "      <td>11.38</td>\n",
       "      <td>1.0</td>\n",
       "    </tr>\n",
       "    <tr>\n",
       "      <th>3</th>\n",
       "      <td>31944</td>\n",
       "      <td>8000000</td>\n",
       "      <td>2018-09-12</td>\n",
       "      <td>21:40:17</td>\n",
       "      <td>55.640462</td>\n",
       "      <td>37.359415</td>\n",
       "      <td>3.0</td>\n",
       "      <td>1.0</td>\n",
       "      <td>1.0</td>\n",
       "      <td>17.0</td>\n",
       "      <td>3.0</td>\n",
       "      <td>74.50</td>\n",
       "      <td>10.00</td>\n",
       "      <td>1.0</td>\n",
       "    </tr>\n",
       "    <tr>\n",
       "      <th>4</th>\n",
       "      <td>82427</td>\n",
       "      <td>2750000</td>\n",
       "      <td>2018-09-18</td>\n",
       "      <td>06:18:38</td>\n",
       "      <td>55.042053</td>\n",
       "      <td>82.940926</td>\n",
       "      <td>9654.0</td>\n",
       "      <td>1.0</td>\n",
       "      <td>1.0</td>\n",
       "      <td>5.0</td>\n",
       "      <td>2.0</td>\n",
       "      <td>44.60</td>\n",
       "      <td>6.00</td>\n",
       "      <td>1.0</td>\n",
       "    </tr>\n",
       "  </tbody>\n",
       "</table>\n",
       "</div>"
      ],
      "text/plain": [
       "   Unnamed: 0    price        date      time    geo_lat    geo_lon  region  \\\n",
       "0       14040  3900000  2018-09-10  12:40:14  55.786480  49.223459  2922.0   \n",
       "1       24608  4250000  2018-09-11  17:26:15  55.905045  37.393578    81.0   \n",
       "2       76636  4340360  2018-09-18  02:35:04  59.882717  30.451298  2661.0   \n",
       "3       31944  8000000  2018-09-12  21:40:17  55.640462  37.359415     3.0   \n",
       "4       82427  2750000  2018-09-18  06:18:38  55.042053  82.940926  9654.0   \n",
       "\n",
       "   building_type  level  levels  rooms   area  kitchen_area  object_type  \n",
       "0            1.0   10.0    11.0    3.0  67.00          8.80          1.0  \n",
       "1            1.0   25.0    25.0    1.0  39.00         10.50          1.0  \n",
       "2            0.0    4.0    27.0    1.0  57.11         11.38          1.0  \n",
       "3            1.0    1.0    17.0    3.0  74.50         10.00          1.0  \n",
       "4            1.0    1.0     5.0    2.0  44.60          6.00          1.0  "
      ]
     },
     "execution_count": 2,
     "metadata": {},
     "output_type": "execute_result"
    }
   ],
   "source": [
    "# define the data origin\n",
    "#raw_data_url = 'https://github.com/Camilojaravila/202210_MINE-4206_ANALISIS_CON_MACHINE_LEARNING/blob/main/Taller%201/russian_prices.csv';\n",
    "raw_data_url = '/Users/danielp/Documents/uni/ML analisys/examples/notebook/202210_MINE-4206_ANALISIS_CON_MACHINE_LEARNING/Taller 1/russian_prices.csv'\n",
    "\n",
    "data = pd.read_csv(raw_data_url)\n",
    "data.head()\n"
   ]
  },
  {
   "cell_type": "markdown",
   "metadata": {},
   "source": [
    "\n",
    "## 3 - Preparación de datos\n",
    "### 2.1 - Segmentación de los datos"
   ]
  },
  {
   "cell_type": "code",
   "execution_count": 3,
   "metadata": {},
   "outputs": [
    {
     "data": {
      "text/html": [
       "<div>\n",
       "<style scoped>\n",
       "    .dataframe tbody tr th:only-of-type {\n",
       "        vertical-align: middle;\n",
       "    }\n",
       "\n",
       "    .dataframe tbody tr th {\n",
       "        vertical-align: top;\n",
       "    }\n",
       "\n",
       "    .dataframe thead th {\n",
       "        text-align: right;\n",
       "    }\n",
       "</style>\n",
       "<table border=\"1\" class=\"dataframe\">\n",
       "  <thead>\n",
       "    <tr style=\"text-align: right;\">\n",
       "      <th></th>\n",
       "      <th>Unnamed: 0</th>\n",
       "      <th>price</th>\n",
       "      <th>date</th>\n",
       "      <th>time</th>\n",
       "      <th>geo_lat</th>\n",
       "      <th>geo_lon</th>\n",
       "      <th>region</th>\n",
       "      <th>building_type</th>\n",
       "      <th>level</th>\n",
       "      <th>levels</th>\n",
       "      <th>rooms</th>\n",
       "      <th>area</th>\n",
       "      <th>kitchen_area</th>\n",
       "      <th>object_type</th>\n",
       "    </tr>\n",
       "  </thead>\n",
       "  <tbody>\n",
       "    <tr>\n",
       "      <th>14897</th>\n",
       "      <td>8565</td>\n",
       "      <td>670000</td>\n",
       "      <td>2018-09-09</td>\n",
       "      <td>16:58:11</td>\n",
       "      <td>61.647906</td>\n",
       "      <td>50.867897</td>\n",
       "      <td>4417.0</td>\n",
       "      <td>5.0</td>\n",
       "      <td>1.0</td>\n",
       "      <td>2.0</td>\n",
       "      <td>2.0</td>\n",
       "      <td>37.0</td>\n",
       "      <td>6.0</td>\n",
       "      <td>1.0</td>\n",
       "    </tr>\n",
       "    <tr>\n",
       "      <th>29216</th>\n",
       "      <td>6814</td>\n",
       "      <td>6019600</td>\n",
       "      <td>2018-09-09</td>\n",
       "      <td>09:40:42</td>\n",
       "      <td>55.671999</td>\n",
       "      <td>37.860235</td>\n",
       "      <td>81.0</td>\n",
       "      <td>2.0</td>\n",
       "      <td>17.0</td>\n",
       "      <td>33.0</td>\n",
       "      <td>2.0</td>\n",
       "      <td>59.6</td>\n",
       "      <td>20.3</td>\n",
       "      <td>11.0</td>\n",
       "    </tr>\n",
       "    <tr>\n",
       "      <th>48722</th>\n",
       "      <td>53863</td>\n",
       "      <td>3218600</td>\n",
       "      <td>2018-09-15</td>\n",
       "      <td>23:32:21</td>\n",
       "      <td>57.696745</td>\n",
       "      <td>39.791132</td>\n",
       "      <td>2604.0</td>\n",
       "      <td>0.0</td>\n",
       "      <td>3.0</td>\n",
       "      <td>16.0</td>\n",
       "      <td>3.0</td>\n",
       "      <td>73.0</td>\n",
       "      <td>10.0</td>\n",
       "      <td>11.0</td>\n",
       "    </tr>\n",
       "    <tr>\n",
       "      <th>20328</th>\n",
       "      <td>81369</td>\n",
       "      <td>2400000</td>\n",
       "      <td>2018-09-18</td>\n",
       "      <td>05:06:29</td>\n",
       "      <td>47.237957</td>\n",
       "      <td>39.696465</td>\n",
       "      <td>3230.0</td>\n",
       "      <td>3.0</td>\n",
       "      <td>2.0</td>\n",
       "      <td>5.0</td>\n",
       "      <td>2.0</td>\n",
       "      <td>42.0</td>\n",
       "      <td>6.0</td>\n",
       "      <td>1.0</td>\n",
       "    </tr>\n",
       "    <tr>\n",
       "      <th>12495</th>\n",
       "      <td>47951</td>\n",
       "      <td>6952000</td>\n",
       "      <td>2018-09-14</td>\n",
       "      <td>19:43:56</td>\n",
       "      <td>59.885442</td>\n",
       "      <td>30.449805</td>\n",
       "      <td>2661.0</td>\n",
       "      <td>2.0</td>\n",
       "      <td>15.0</td>\n",
       "      <td>22.0</td>\n",
       "      <td>3.0</td>\n",
       "      <td>86.9</td>\n",
       "      <td>19.2</td>\n",
       "      <td>11.0</td>\n",
       "    </tr>\n",
       "  </tbody>\n",
       "</table>\n",
       "</div>"
      ],
      "text/plain": [
       "       Unnamed: 0    price        date      time    geo_lat    geo_lon  \\\n",
       "14897        8565   670000  2018-09-09  16:58:11  61.647906  50.867897   \n",
       "29216        6814  6019600  2018-09-09  09:40:42  55.671999  37.860235   \n",
       "48722       53863  3218600  2018-09-15  23:32:21  57.696745  39.791132   \n",
       "20328       81369  2400000  2018-09-18  05:06:29  47.237957  39.696465   \n",
       "12495       47951  6952000  2018-09-14  19:43:56  59.885442  30.449805   \n",
       "\n",
       "       region  building_type  level  levels  rooms  area  kitchen_area  \\\n",
       "14897  4417.0            5.0    1.0     2.0    2.0  37.0           6.0   \n",
       "29216    81.0            2.0   17.0    33.0    2.0  59.6          20.3   \n",
       "48722  2604.0            0.0    3.0    16.0    3.0  73.0          10.0   \n",
       "20328  3230.0            3.0    2.0     5.0    2.0  42.0           6.0   \n",
       "12495  2661.0            2.0   15.0    22.0    3.0  86.9          19.2   \n",
       "\n",
       "       object_type  \n",
       "14897          1.0  \n",
       "29216         11.0  \n",
       "48722         11.0  \n",
       "20328          1.0  \n",
       "12495         11.0  "
      ]
     },
     "execution_count": 3,
     "metadata": {},
     "output_type": "execute_result"
    }
   ],
   "source": [
    "# data splitting in training and test subsets\n",
    "train, test = train_test_split(data, test_size=0.2, random_state=33)\n",
    "train.head()"
   ]
  },
  {
   "cell_type": "markdown",
   "metadata": {},
   "source": [
    "### 2.2 - Perfilamiento de los datos de entrenamiento"
   ]
  },
  {
   "cell_type": "code",
   "execution_count": 4,
   "metadata": {},
   "outputs": [
    {
     "data": {
      "application/vnd.jupyter.widget-view+json": {
       "model_id": "23eb0d7c80284310afece6e96490a737",
       "version_major": 2,
       "version_minor": 0
      },
      "text/plain": [
       "Summarize dataset:   0%|          | 0/5 [00:00<?, ?it/s]"
      ]
     },
     "metadata": {},
     "output_type": "display_data"
    },
    {
     "ename": "IndexError",
     "evalue": "only integers, slices (`:`), ellipsis (`...`), numpy.newaxis (`None`) and integer or boolean arrays are valid indices",
     "output_type": "error",
     "traceback": [
      "\u001b[0;31m---------------------------------------------------------------------------\u001b[0m",
      "\u001b[0;31mIndexError\u001b[0m                                Traceback (most recent call last)",
      "File \u001b[0;32m/opt/homebrew/lib/python3.9/site-packages/IPython/core/formatters.py:343\u001b[0m, in \u001b[0;36mBaseFormatter.__call__\u001b[0;34m(self, obj)\u001b[0m\n\u001b[1;32m    341\u001b[0m     method \u001b[38;5;241m=\u001b[39m get_real_method(obj, \u001b[38;5;28mself\u001b[39m\u001b[38;5;241m.\u001b[39mprint_method)\n\u001b[1;32m    342\u001b[0m     \u001b[38;5;28;01mif\u001b[39;00m method \u001b[38;5;129;01mis\u001b[39;00m \u001b[38;5;129;01mnot\u001b[39;00m \u001b[38;5;28;01mNone\u001b[39;00m:\n\u001b[0;32m--> 343\u001b[0m         \u001b[38;5;28;01mreturn\u001b[39;00m \u001b[43mmethod\u001b[49m\u001b[43m(\u001b[49m\u001b[43m)\u001b[49m\n\u001b[1;32m    344\u001b[0m     \u001b[38;5;28;01mreturn\u001b[39;00m \u001b[38;5;28;01mNone\u001b[39;00m\n\u001b[1;32m    345\u001b[0m \u001b[38;5;28;01melse\u001b[39;00m:\n",
      "File \u001b[0;32m/opt/homebrew/lib/python3.9/site-packages/pandas_profiling/profile_report.py:418\u001b[0m, in \u001b[0;36mProfileReport._repr_html_\u001b[0;34m(self)\u001b[0m\n\u001b[1;32m    416\u001b[0m \u001b[38;5;28;01mdef\u001b[39;00m \u001b[38;5;21m_repr_html_\u001b[39m(\u001b[38;5;28mself\u001b[39m) \u001b[38;5;241m-\u001b[39m\u001b[38;5;241m>\u001b[39m \u001b[38;5;28;01mNone\u001b[39;00m:\n\u001b[1;32m    417\u001b[0m     \u001b[38;5;124;03m\"\"\"The ipython notebook widgets user interface gets called by the jupyter notebook.\"\"\"\u001b[39;00m\n\u001b[0;32m--> 418\u001b[0m     \u001b[38;5;28;43mself\u001b[39;49m\u001b[38;5;241;43m.\u001b[39;49m\u001b[43mto_notebook_iframe\u001b[49m\u001b[43m(\u001b[49m\u001b[43m)\u001b[49m\n",
      "File \u001b[0;32m/opt/homebrew/lib/python3.9/site-packages/pandas_profiling/profile_report.py:398\u001b[0m, in \u001b[0;36mProfileReport.to_notebook_iframe\u001b[0;34m(self)\u001b[0m\n\u001b[1;32m    396\u001b[0m \u001b[38;5;28;01mwith\u001b[39;00m warnings\u001b[38;5;241m.\u001b[39mcatch_warnings():\n\u001b[1;32m    397\u001b[0m     warnings\u001b[38;5;241m.\u001b[39msimplefilter(\u001b[38;5;124m\"\u001b[39m\u001b[38;5;124mignore\u001b[39m\u001b[38;5;124m\"\u001b[39m)\n\u001b[0;32m--> 398\u001b[0m     display(\u001b[43mget_notebook_iframe\u001b[49m\u001b[43m(\u001b[49m\u001b[38;5;28;43mself\u001b[39;49m\u001b[38;5;241;43m.\u001b[39;49m\u001b[43mconfig\u001b[49m\u001b[43m,\u001b[49m\u001b[43m \u001b[49m\u001b[38;5;28;43mself\u001b[39;49m\u001b[43m)\u001b[49m)\n",
      "File \u001b[0;32m/opt/homebrew/lib/python3.9/site-packages/pandas_profiling/report/presentation/flavours/widget/notebook.py:75\u001b[0m, in \u001b[0;36mget_notebook_iframe\u001b[0;34m(config, profile)\u001b[0m\n\u001b[1;32m     73\u001b[0m     output \u001b[38;5;241m=\u001b[39m get_notebook_iframe_src(config, profile)\n\u001b[1;32m     74\u001b[0m \u001b[38;5;28;01melif\u001b[39;00m attribute \u001b[38;5;241m==\u001b[39m IframeAttribute\u001b[38;5;241m.\u001b[39msrcdoc:\n\u001b[0;32m---> 75\u001b[0m     output \u001b[38;5;241m=\u001b[39m \u001b[43mget_notebook_iframe_srcdoc\u001b[49m\u001b[43m(\u001b[49m\u001b[43mconfig\u001b[49m\u001b[43m,\u001b[49m\u001b[43m \u001b[49m\u001b[43mprofile\u001b[49m\u001b[43m)\u001b[49m\n\u001b[1;32m     76\u001b[0m \u001b[38;5;28;01melse\u001b[39;00m:\n\u001b[1;32m     77\u001b[0m     \u001b[38;5;28;01mraise\u001b[39;00m \u001b[38;5;167;01mValueError\u001b[39;00m(\n\u001b[1;32m     78\u001b[0m         \u001b[38;5;124mf\u001b[39m\u001b[38;5;124m'\u001b[39m\u001b[38;5;124mIframe Attribute can be \u001b[39m\u001b[38;5;124m\"\u001b[39m\u001b[38;5;124msrc\u001b[39m\u001b[38;5;124m\"\u001b[39m\u001b[38;5;124m or \u001b[39m\u001b[38;5;124m\"\u001b[39m\u001b[38;5;124msrcdoc\u001b[39m\u001b[38;5;124m\"\u001b[39m\u001b[38;5;124m (current: \u001b[39m\u001b[38;5;132;01m{\u001b[39;00mattribute\u001b[38;5;132;01m}\u001b[39;00m\u001b[38;5;124m).\u001b[39m\u001b[38;5;124m'\u001b[39m\n\u001b[1;32m     79\u001b[0m     )\n",
      "File \u001b[0;32m/opt/homebrew/lib/python3.9/site-packages/pandas_profiling/report/presentation/flavours/widget/notebook.py:29\u001b[0m, in \u001b[0;36mget_notebook_iframe_srcdoc\u001b[0;34m(config, profile)\u001b[0m\n\u001b[1;32m     27\u001b[0m width \u001b[38;5;241m=\u001b[39m config\u001b[38;5;241m.\u001b[39mnotebook\u001b[38;5;241m.\u001b[39miframe\u001b[38;5;241m.\u001b[39mwidth\n\u001b[1;32m     28\u001b[0m height \u001b[38;5;241m=\u001b[39m config\u001b[38;5;241m.\u001b[39mnotebook\u001b[38;5;241m.\u001b[39miframe\u001b[38;5;241m.\u001b[39mheight\n\u001b[0;32m---> 29\u001b[0m src \u001b[38;5;241m=\u001b[39m html\u001b[38;5;241m.\u001b[39mescape(\u001b[43mprofile\u001b[49m\u001b[38;5;241;43m.\u001b[39;49m\u001b[43mto_html\u001b[49m\u001b[43m(\u001b[49m\u001b[43m)\u001b[49m)\n\u001b[1;32m     31\u001b[0m iframe \u001b[38;5;241m=\u001b[39m \u001b[38;5;124mf\u001b[39m\u001b[38;5;124m'\u001b[39m\u001b[38;5;124m<iframe width=\u001b[39m\u001b[38;5;124m\"\u001b[39m\u001b[38;5;132;01m{\u001b[39;00mwidth\u001b[38;5;132;01m}\u001b[39;00m\u001b[38;5;124m\"\u001b[39m\u001b[38;5;124m height=\u001b[39m\u001b[38;5;124m\"\u001b[39m\u001b[38;5;132;01m{\u001b[39;00mheight\u001b[38;5;132;01m}\u001b[39;00m\u001b[38;5;124m\"\u001b[39m\u001b[38;5;124m srcdoc=\u001b[39m\u001b[38;5;124m\"\u001b[39m\u001b[38;5;132;01m{\u001b[39;00msrc\u001b[38;5;132;01m}\u001b[39;00m\u001b[38;5;124m\"\u001b[39m\u001b[38;5;124m frameborder=\u001b[39m\u001b[38;5;124m\"\u001b[39m\u001b[38;5;124m0\u001b[39m\u001b[38;5;124m\"\u001b[39m\u001b[38;5;124m allowfullscreen></iframe>\u001b[39m\u001b[38;5;124m'\u001b[39m\n\u001b[1;32m     33\u001b[0m \u001b[38;5;28;01mreturn\u001b[39;00m HTML(iframe)\n",
      "File \u001b[0;32m/opt/homebrew/lib/python3.9/site-packages/pandas_profiling/profile_report.py:368\u001b[0m, in \u001b[0;36mProfileReport.to_html\u001b[0;34m(self)\u001b[0m\n\u001b[1;32m    360\u001b[0m \u001b[38;5;28;01mdef\u001b[39;00m \u001b[38;5;21mto_html\u001b[39m(\u001b[38;5;28mself\u001b[39m) \u001b[38;5;241m-\u001b[39m\u001b[38;5;241m>\u001b[39m \u001b[38;5;28mstr\u001b[39m:\n\u001b[1;32m    361\u001b[0m     \u001b[38;5;124;03m\"\"\"Generate and return complete template as lengthy string\u001b[39;00m\n\u001b[1;32m    362\u001b[0m \u001b[38;5;124;03m        for using with frameworks.\u001b[39;00m\n\u001b[1;32m    363\u001b[0m \n\u001b[0;32m   (...)\u001b[0m\n\u001b[1;32m    366\u001b[0m \n\u001b[1;32m    367\u001b[0m \u001b[38;5;124;03m    \"\"\"\u001b[39;00m\n\u001b[0;32m--> 368\u001b[0m     \u001b[38;5;28;01mreturn\u001b[39;00m \u001b[38;5;28;43mself\u001b[39;49m\u001b[38;5;241;43m.\u001b[39;49m\u001b[43mhtml\u001b[49m\n",
      "File \u001b[0;32m/opt/homebrew/lib/python3.9/site-packages/pandas_profiling/profile_report.py:185\u001b[0m, in \u001b[0;36mProfileReport.html\u001b[0;34m(self)\u001b[0m\n\u001b[1;32m    182\u001b[0m \u001b[38;5;129m@property\u001b[39m\n\u001b[1;32m    183\u001b[0m \u001b[38;5;28;01mdef\u001b[39;00m \u001b[38;5;21mhtml\u001b[39m(\u001b[38;5;28mself\u001b[39m) \u001b[38;5;241m-\u001b[39m\u001b[38;5;241m>\u001b[39m \u001b[38;5;28mstr\u001b[39m:\n\u001b[1;32m    184\u001b[0m     \u001b[38;5;28;01mif\u001b[39;00m \u001b[38;5;28mself\u001b[39m\u001b[38;5;241m.\u001b[39m_html \u001b[38;5;129;01mis\u001b[39;00m \u001b[38;5;28;01mNone\u001b[39;00m:\n\u001b[0;32m--> 185\u001b[0m         \u001b[38;5;28mself\u001b[39m\u001b[38;5;241m.\u001b[39m_html \u001b[38;5;241m=\u001b[39m \u001b[38;5;28;43mself\u001b[39;49m\u001b[38;5;241;43m.\u001b[39;49m\u001b[43m_render_html\u001b[49m\u001b[43m(\u001b[49m\u001b[43m)\u001b[49m\n\u001b[1;32m    186\u001b[0m     \u001b[38;5;28;01mreturn\u001b[39;00m \u001b[38;5;28mself\u001b[39m\u001b[38;5;241m.\u001b[39m_html\n",
      "File \u001b[0;32m/opt/homebrew/lib/python3.9/site-packages/pandas_profiling/profile_report.py:287\u001b[0m, in \u001b[0;36mProfileReport._render_html\u001b[0;34m(self)\u001b[0m\n\u001b[1;32m    284\u001b[0m \u001b[38;5;28;01mdef\u001b[39;00m \u001b[38;5;21m_render_html\u001b[39m(\u001b[38;5;28mself\u001b[39m) \u001b[38;5;241m-\u001b[39m\u001b[38;5;241m>\u001b[39m \u001b[38;5;28mstr\u001b[39m:\n\u001b[1;32m    285\u001b[0m     \u001b[38;5;28;01mfrom\u001b[39;00m \u001b[38;5;21;01mpandas_profiling\u001b[39;00m\u001b[38;5;21;01m.\u001b[39;00m\u001b[38;5;21;01mreport\u001b[39;00m\u001b[38;5;21;01m.\u001b[39;00m\u001b[38;5;21;01mpresentation\u001b[39;00m\u001b[38;5;21;01m.\u001b[39;00m\u001b[38;5;21;01mflavours\u001b[39;00m \u001b[38;5;28;01mimport\u001b[39;00m HTMLReport\n\u001b[0;32m--> 287\u001b[0m     report \u001b[38;5;241m=\u001b[39m \u001b[38;5;28;43mself\u001b[39;49m\u001b[38;5;241;43m.\u001b[39;49m\u001b[43mreport\u001b[49m\n\u001b[1;32m    289\u001b[0m     \u001b[38;5;28;01mwith\u001b[39;00m tqdm(\n\u001b[1;32m    290\u001b[0m         total\u001b[38;5;241m=\u001b[39m\u001b[38;5;241m1\u001b[39m, desc\u001b[38;5;241m=\u001b[39m\u001b[38;5;124m\"\u001b[39m\u001b[38;5;124mRender HTML\u001b[39m\u001b[38;5;124m\"\u001b[39m, disable\u001b[38;5;241m=\u001b[39m\u001b[38;5;129;01mnot\u001b[39;00m \u001b[38;5;28mself\u001b[39m\u001b[38;5;241m.\u001b[39mconfig\u001b[38;5;241m.\u001b[39mprogress_bar\n\u001b[1;32m    291\u001b[0m     ) \u001b[38;5;28;01mas\u001b[39;00m pbar:\n\u001b[1;32m    292\u001b[0m         html \u001b[38;5;241m=\u001b[39m HTMLReport(copy\u001b[38;5;241m.\u001b[39mdeepcopy(report))\u001b[38;5;241m.\u001b[39mrender(\n\u001b[1;32m    293\u001b[0m             nav\u001b[38;5;241m=\u001b[39m\u001b[38;5;28mself\u001b[39m\u001b[38;5;241m.\u001b[39mconfig\u001b[38;5;241m.\u001b[39mhtml\u001b[38;5;241m.\u001b[39mnavbar_show,\n\u001b[1;32m    294\u001b[0m             offline\u001b[38;5;241m=\u001b[39m\u001b[38;5;28mself\u001b[39m\u001b[38;5;241m.\u001b[39mconfig\u001b[38;5;241m.\u001b[39mhtml\u001b[38;5;241m.\u001b[39muse_local_assets,\n\u001b[0;32m   (...)\u001b[0m\n\u001b[1;32m    302\u001b[0m             version\u001b[38;5;241m=\u001b[39m\u001b[38;5;28mself\u001b[39m\u001b[38;5;241m.\u001b[39mdescription_set[\u001b[38;5;124m\"\u001b[39m\u001b[38;5;124mpackage\u001b[39m\u001b[38;5;124m\"\u001b[39m][\u001b[38;5;124m\"\u001b[39m\u001b[38;5;124mpandas_profiling_version\u001b[39m\u001b[38;5;124m\"\u001b[39m],\n\u001b[1;32m    303\u001b[0m         )\n",
      "File \u001b[0;32m/opt/homebrew/lib/python3.9/site-packages/pandas_profiling/profile_report.py:179\u001b[0m, in \u001b[0;36mProfileReport.report\u001b[0;34m(self)\u001b[0m\n\u001b[1;32m    176\u001b[0m \u001b[38;5;129m@property\u001b[39m\n\u001b[1;32m    177\u001b[0m \u001b[38;5;28;01mdef\u001b[39;00m \u001b[38;5;21mreport\u001b[39m(\u001b[38;5;28mself\u001b[39m) \u001b[38;5;241m-\u001b[39m\u001b[38;5;241m>\u001b[39m Root:\n\u001b[1;32m    178\u001b[0m     \u001b[38;5;28;01mif\u001b[39;00m \u001b[38;5;28mself\u001b[39m\u001b[38;5;241m.\u001b[39m_report \u001b[38;5;129;01mis\u001b[39;00m \u001b[38;5;28;01mNone\u001b[39;00m:\n\u001b[0;32m--> 179\u001b[0m         \u001b[38;5;28mself\u001b[39m\u001b[38;5;241m.\u001b[39m_report \u001b[38;5;241m=\u001b[39m get_report_structure(\u001b[38;5;28mself\u001b[39m\u001b[38;5;241m.\u001b[39mconfig, \u001b[38;5;28;43mself\u001b[39;49m\u001b[38;5;241;43m.\u001b[39;49m\u001b[43mdescription_set\u001b[49m)\n\u001b[1;32m    180\u001b[0m     \u001b[38;5;28;01mreturn\u001b[39;00m \u001b[38;5;28mself\u001b[39m\u001b[38;5;241m.\u001b[39m_report\n",
      "File \u001b[0;32m/opt/homebrew/lib/python3.9/site-packages/pandas_profiling/profile_report.py:161\u001b[0m, in \u001b[0;36mProfileReport.description_set\u001b[0;34m(self)\u001b[0m\n\u001b[1;32m    158\u001b[0m \u001b[38;5;129m@property\u001b[39m\n\u001b[1;32m    159\u001b[0m \u001b[38;5;28;01mdef\u001b[39;00m \u001b[38;5;21mdescription_set\u001b[39m(\u001b[38;5;28mself\u001b[39m) \u001b[38;5;241m-\u001b[39m\u001b[38;5;241m>\u001b[39m Dict[\u001b[38;5;28mstr\u001b[39m, Any]:\n\u001b[1;32m    160\u001b[0m     \u001b[38;5;28;01mif\u001b[39;00m \u001b[38;5;28mself\u001b[39m\u001b[38;5;241m.\u001b[39m_description_set \u001b[38;5;129;01mis\u001b[39;00m \u001b[38;5;28;01mNone\u001b[39;00m:\n\u001b[0;32m--> 161\u001b[0m         \u001b[38;5;28mself\u001b[39m\u001b[38;5;241m.\u001b[39m_description_set \u001b[38;5;241m=\u001b[39m \u001b[43mdescribe_df\u001b[49m\u001b[43m(\u001b[49m\n\u001b[1;32m    162\u001b[0m \u001b[43m            \u001b[49m\u001b[38;5;28;43mself\u001b[39;49m\u001b[38;5;241;43m.\u001b[39;49m\u001b[43mconfig\u001b[49m\u001b[43m,\u001b[49m\n\u001b[1;32m    163\u001b[0m \u001b[43m            \u001b[49m\u001b[38;5;28;43mself\u001b[39;49m\u001b[38;5;241;43m.\u001b[39;49m\u001b[43mdf\u001b[49m\u001b[43m,\u001b[49m\n\u001b[1;32m    164\u001b[0m \u001b[43m            \u001b[49m\u001b[38;5;28;43mself\u001b[39;49m\u001b[38;5;241;43m.\u001b[39;49m\u001b[43msummarizer\u001b[49m\u001b[43m,\u001b[49m\n\u001b[1;32m    165\u001b[0m \u001b[43m            \u001b[49m\u001b[38;5;28;43mself\u001b[39;49m\u001b[38;5;241;43m.\u001b[39;49m\u001b[43mtypeset\u001b[49m\u001b[43m,\u001b[49m\n\u001b[1;32m    166\u001b[0m \u001b[43m            \u001b[49m\u001b[38;5;28;43mself\u001b[39;49m\u001b[38;5;241;43m.\u001b[39;49m\u001b[43m_sample\u001b[49m\u001b[43m,\u001b[49m\n\u001b[1;32m    167\u001b[0m \u001b[43m        \u001b[49m\u001b[43m)\u001b[49m\n\u001b[1;32m    168\u001b[0m     \u001b[38;5;28;01mreturn\u001b[39;00m \u001b[38;5;28mself\u001b[39m\u001b[38;5;241m.\u001b[39m_description_set\n",
      "File \u001b[0;32m/opt/homebrew/lib/python3.9/site-packages/pandas_profiling/model/describe.py:71\u001b[0m, in \u001b[0;36mdescribe\u001b[0;34m(config, df, summarizer, typeset, sample)\u001b[0m\n\u001b[1;32m     69\u001b[0m \u001b[38;5;66;03m# Variable-specific\u001b[39;00m\n\u001b[1;32m     70\u001b[0m pbar\u001b[38;5;241m.\u001b[39mtotal \u001b[38;5;241m+\u001b[39m\u001b[38;5;241m=\u001b[39m \u001b[38;5;28mlen\u001b[39m(df\u001b[38;5;241m.\u001b[39mcolumns)\n\u001b[0;32m---> 71\u001b[0m series_description \u001b[38;5;241m=\u001b[39m \u001b[43mget_series_descriptions\u001b[49m\u001b[43m(\u001b[49m\n\u001b[1;32m     72\u001b[0m \u001b[43m    \u001b[49m\u001b[43mconfig\u001b[49m\u001b[43m,\u001b[49m\u001b[43m \u001b[49m\u001b[43mdf\u001b[49m\u001b[43m,\u001b[49m\u001b[43m \u001b[49m\u001b[43msummarizer\u001b[49m\u001b[43m,\u001b[49m\u001b[43m \u001b[49m\u001b[43mtypeset\u001b[49m\u001b[43m,\u001b[49m\u001b[43m \u001b[49m\u001b[43mpbar\u001b[49m\n\u001b[1;32m     73\u001b[0m \u001b[43m\u001b[49m\u001b[43m)\u001b[49m\n\u001b[1;32m     75\u001b[0m pbar\u001b[38;5;241m.\u001b[39mset_postfix_str(\u001b[38;5;124m\"\u001b[39m\u001b[38;5;124mGet variable types\u001b[39m\u001b[38;5;124m\"\u001b[39m)\n\u001b[1;32m     76\u001b[0m pbar\u001b[38;5;241m.\u001b[39mtotal \u001b[38;5;241m+\u001b[39m\u001b[38;5;241m=\u001b[39m \u001b[38;5;241m1\u001b[39m\n",
      "File \u001b[0;32m/opt/homebrew/lib/python3.9/site-packages/multimethod/__init__.py:300\u001b[0m, in \u001b[0;36mmultimethod.__call__\u001b[0;34m(self, *args, **kwargs)\u001b[0m\n\u001b[1;32m    298\u001b[0m func \u001b[38;5;241m=\u001b[39m \u001b[38;5;28mself\u001b[39m[\u001b[38;5;28mtuple\u001b[39m(func(arg) \u001b[38;5;28;01mfor\u001b[39;00m func, arg \u001b[38;5;129;01min\u001b[39;00m \u001b[38;5;28mzip\u001b[39m(\u001b[38;5;28mself\u001b[39m\u001b[38;5;241m.\u001b[39mtype_checkers, args))]\n\u001b[1;32m    299\u001b[0m \u001b[38;5;28;01mtry\u001b[39;00m:\n\u001b[0;32m--> 300\u001b[0m     \u001b[38;5;28;01mreturn\u001b[39;00m \u001b[43mfunc\u001b[49m\u001b[43m(\u001b[49m\u001b[38;5;241;43m*\u001b[39;49m\u001b[43margs\u001b[49m\u001b[43m,\u001b[49m\u001b[43m \u001b[49m\u001b[38;5;241;43m*\u001b[39;49m\u001b[38;5;241;43m*\u001b[39;49m\u001b[43mkwargs\u001b[49m\u001b[43m)\u001b[49m\n\u001b[1;32m    301\u001b[0m \u001b[38;5;28;01mexcept\u001b[39;00m \u001b[38;5;167;01mTypeError\u001b[39;00m \u001b[38;5;28;01mas\u001b[39;00m ex:\n\u001b[1;32m    302\u001b[0m     \u001b[38;5;28;01mraise\u001b[39;00m DispatchError(\u001b[38;5;124mf\u001b[39m\u001b[38;5;124m\"\u001b[39m\u001b[38;5;124mFunction \u001b[39m\u001b[38;5;132;01m{\u001b[39;00mfunc\u001b[38;5;241m.\u001b[39m\u001b[38;5;18m__code__\u001b[39m\u001b[38;5;132;01m}\u001b[39;00m\u001b[38;5;124m\"\u001b[39m) \u001b[38;5;28;01mfrom\u001b[39;00m \u001b[38;5;21;01mex\u001b[39;00m\n",
      "File \u001b[0;32m/opt/homebrew/lib/python3.9/site-packages/pandas_profiling/model/pandas/summary_pandas.py:92\u001b[0m, in \u001b[0;36mpandas_get_series_descriptions\u001b[0;34m(config, df, summarizer, typeset, pbar)\u001b[0m\n\u001b[1;32m     89\u001b[0m \u001b[38;5;28;01melse\u001b[39;00m:\n\u001b[1;32m     90\u001b[0m     \u001b[38;5;66;03m# TODO: use `Pool` for Linux-based systems\u001b[39;00m\n\u001b[1;32m     91\u001b[0m     \u001b[38;5;28;01mwith\u001b[39;00m multiprocessing\u001b[38;5;241m.\u001b[39mpool\u001b[38;5;241m.\u001b[39mThreadPool(pool_size) \u001b[38;5;28;01mas\u001b[39;00m executor:\n\u001b[0;32m---> 92\u001b[0m         \u001b[38;5;28;01mfor\u001b[39;00m i, (column, description) \u001b[38;5;129;01min\u001b[39;00m \u001b[38;5;28menumerate\u001b[39m(\n\u001b[1;32m     93\u001b[0m             executor\u001b[38;5;241m.\u001b[39mimap_unordered(multiprocess_1d, args)\n\u001b[1;32m     94\u001b[0m         ):\n\u001b[1;32m     95\u001b[0m             pbar\u001b[38;5;241m.\u001b[39mset_postfix_str(\u001b[38;5;124mf\u001b[39m\u001b[38;5;124m\"\u001b[39m\u001b[38;5;124mDescribe variable:\u001b[39m\u001b[38;5;132;01m{\u001b[39;00mcolumn\u001b[38;5;132;01m}\u001b[39;00m\u001b[38;5;124m\"\u001b[39m)\n\u001b[1;32m     96\u001b[0m             series_description[column] \u001b[38;5;241m=\u001b[39m description\n",
      "File \u001b[0;32m/opt/homebrew/Cellar/python@3.9/3.9.10/Frameworks/Python.framework/Versions/3.9/lib/python3.9/multiprocessing/pool.py:870\u001b[0m, in \u001b[0;36mIMapIterator.next\u001b[0;34m(self, timeout)\u001b[0m\n\u001b[1;32m    868\u001b[0m \u001b[38;5;28;01mif\u001b[39;00m success:\n\u001b[1;32m    869\u001b[0m     \u001b[38;5;28;01mreturn\u001b[39;00m value\n\u001b[0;32m--> 870\u001b[0m \u001b[38;5;28;01mraise\u001b[39;00m value\n",
      "File \u001b[0;32m/opt/homebrew/Cellar/python@3.9/3.9.10/Frameworks/Python.framework/Versions/3.9/lib/python3.9/multiprocessing/pool.py:125\u001b[0m, in \u001b[0;36mworker\u001b[0;34m(inqueue, outqueue, initializer, initargs, maxtasks, wrap_exception)\u001b[0m\n\u001b[1;32m    123\u001b[0m job, i, func, args, kwds \u001b[38;5;241m=\u001b[39m task\n\u001b[1;32m    124\u001b[0m \u001b[38;5;28;01mtry\u001b[39;00m:\n\u001b[0;32m--> 125\u001b[0m     result \u001b[38;5;241m=\u001b[39m (\u001b[38;5;28;01mTrue\u001b[39;00m, \u001b[43mfunc\u001b[49m\u001b[43m(\u001b[49m\u001b[38;5;241;43m*\u001b[39;49m\u001b[43margs\u001b[49m\u001b[43m,\u001b[49m\u001b[43m \u001b[49m\u001b[38;5;241;43m*\u001b[39;49m\u001b[38;5;241;43m*\u001b[39;49m\u001b[43mkwds\u001b[49m\u001b[43m)\u001b[49m)\n\u001b[1;32m    126\u001b[0m \u001b[38;5;28;01mexcept\u001b[39;00m \u001b[38;5;167;01mException\u001b[39;00m \u001b[38;5;28;01mas\u001b[39;00m e:\n\u001b[1;32m    127\u001b[0m     \u001b[38;5;28;01mif\u001b[39;00m wrap_exception \u001b[38;5;129;01mand\u001b[39;00m func \u001b[38;5;129;01mis\u001b[39;00m \u001b[38;5;129;01mnot\u001b[39;00m _helper_reraises_exception:\n",
      "File \u001b[0;32m/opt/homebrew/lib/python3.9/site-packages/pandas_profiling/model/pandas/summary_pandas.py:72\u001b[0m, in \u001b[0;36mpandas_get_series_descriptions.<locals>.multiprocess_1d\u001b[0;34m(args)\u001b[0m\n\u001b[1;32m     62\u001b[0m \u001b[38;5;124;03m\"\"\"Wrapper to process series in parallel.\u001b[39;00m\n\u001b[1;32m     63\u001b[0m \n\u001b[1;32m     64\u001b[0m \u001b[38;5;124;03mArgs:\u001b[39;00m\n\u001b[0;32m   (...)\u001b[0m\n\u001b[1;32m     69\u001b[0m \u001b[38;5;124;03m    A tuple with column and the series description.\u001b[39;00m\n\u001b[1;32m     70\u001b[0m \u001b[38;5;124;03m\"\"\"\u001b[39;00m\n\u001b[1;32m     71\u001b[0m column, series \u001b[38;5;241m=\u001b[39m args\n\u001b[0;32m---> 72\u001b[0m \u001b[38;5;28;01mreturn\u001b[39;00m column, \u001b[43mdescribe_1d\u001b[49m\u001b[43m(\u001b[49m\u001b[43mconfig\u001b[49m\u001b[43m,\u001b[49m\u001b[43m \u001b[49m\u001b[43mseries\u001b[49m\u001b[43m,\u001b[49m\u001b[43m \u001b[49m\u001b[43msummarizer\u001b[49m\u001b[43m,\u001b[49m\u001b[43m \u001b[49m\u001b[43mtypeset\u001b[49m\u001b[43m)\u001b[49m\n",
      "File \u001b[0;32m/opt/homebrew/lib/python3.9/site-packages/multimethod/__init__.py:300\u001b[0m, in \u001b[0;36mmultimethod.__call__\u001b[0;34m(self, *args, **kwargs)\u001b[0m\n\u001b[1;32m    298\u001b[0m func \u001b[38;5;241m=\u001b[39m \u001b[38;5;28mself\u001b[39m[\u001b[38;5;28mtuple\u001b[39m(func(arg) \u001b[38;5;28;01mfor\u001b[39;00m func, arg \u001b[38;5;129;01min\u001b[39;00m \u001b[38;5;28mzip\u001b[39m(\u001b[38;5;28mself\u001b[39m\u001b[38;5;241m.\u001b[39mtype_checkers, args))]\n\u001b[1;32m    299\u001b[0m \u001b[38;5;28;01mtry\u001b[39;00m:\n\u001b[0;32m--> 300\u001b[0m     \u001b[38;5;28;01mreturn\u001b[39;00m \u001b[43mfunc\u001b[49m\u001b[43m(\u001b[49m\u001b[38;5;241;43m*\u001b[39;49m\u001b[43margs\u001b[49m\u001b[43m,\u001b[49m\u001b[43m \u001b[49m\u001b[38;5;241;43m*\u001b[39;49m\u001b[38;5;241;43m*\u001b[39;49m\u001b[43mkwargs\u001b[49m\u001b[43m)\u001b[49m\n\u001b[1;32m    301\u001b[0m \u001b[38;5;28;01mexcept\u001b[39;00m \u001b[38;5;167;01mTypeError\u001b[39;00m \u001b[38;5;28;01mas\u001b[39;00m ex:\n\u001b[1;32m    302\u001b[0m     \u001b[38;5;28;01mraise\u001b[39;00m DispatchError(\u001b[38;5;124mf\u001b[39m\u001b[38;5;124m\"\u001b[39m\u001b[38;5;124mFunction \u001b[39m\u001b[38;5;132;01m{\u001b[39;00mfunc\u001b[38;5;241m.\u001b[39m\u001b[38;5;18m__code__\u001b[39m\u001b[38;5;132;01m}\u001b[39;00m\u001b[38;5;124m\"\u001b[39m) \u001b[38;5;28;01mfrom\u001b[39;00m \u001b[38;5;21;01mex\u001b[39;00m\n",
      "File \u001b[0;32m/opt/homebrew/lib/python3.9/site-packages/pandas_profiling/model/pandas/summary_pandas.py:50\u001b[0m, in \u001b[0;36mpandas_describe_1d\u001b[0;34m(config, series, summarizer, typeset)\u001b[0m\n\u001b[1;32m     45\u001b[0m \u001b[38;5;28;01melse\u001b[39;00m:\n\u001b[1;32m     46\u001b[0m     \u001b[38;5;66;03m# Detect variable types from pandas dataframe (df.dtypes).\u001b[39;00m\n\u001b[1;32m     47\u001b[0m     \u001b[38;5;66;03m# [new dtypes, changed using `astype` function are now considered]\u001b[39;00m\n\u001b[1;32m     48\u001b[0m     vtype \u001b[38;5;241m=\u001b[39m typeset\u001b[38;5;241m.\u001b[39mdetect_type(series)\n\u001b[0;32m---> 50\u001b[0m \u001b[38;5;28;01mreturn\u001b[39;00m \u001b[43msummarizer\u001b[49m\u001b[38;5;241;43m.\u001b[39;49m\u001b[43msummarize\u001b[49m\u001b[43m(\u001b[49m\u001b[43mconfig\u001b[49m\u001b[43m,\u001b[49m\u001b[43m \u001b[49m\u001b[43mseries\u001b[49m\u001b[43m,\u001b[49m\u001b[43m \u001b[49m\u001b[43mdtype\u001b[49m\u001b[38;5;241;43m=\u001b[39;49m\u001b[43mvtype\u001b[49m\u001b[43m)\u001b[49m\n",
      "File \u001b[0;32m/opt/homebrew/lib/python3.9/site-packages/pandas_profiling/model/summarizer.py:37\u001b[0m, in \u001b[0;36mBaseSummarizer.summarize\u001b[0;34m(self, config, series, dtype)\u001b[0m\n\u001b[1;32m     29\u001b[0m \u001b[38;5;28;01mdef\u001b[39;00m \u001b[38;5;21msummarize\u001b[39m(\n\u001b[1;32m     30\u001b[0m     \u001b[38;5;28mself\u001b[39m, config: Settings, series: pd\u001b[38;5;241m.\u001b[39mSeries, dtype: Type[VisionsBaseType]\n\u001b[1;32m     31\u001b[0m ) \u001b[38;5;241m-\u001b[39m\u001b[38;5;241m>\u001b[39m \u001b[38;5;28mdict\u001b[39m:\n\u001b[1;32m     32\u001b[0m     \u001b[38;5;124;03m\"\"\"\u001b[39;00m\n\u001b[1;32m     33\u001b[0m \n\u001b[1;32m     34\u001b[0m \u001b[38;5;124;03m    Returns:\u001b[39;00m\n\u001b[1;32m     35\u001b[0m \u001b[38;5;124;03m        object:\u001b[39;00m\n\u001b[1;32m     36\u001b[0m \u001b[38;5;124;03m    \"\"\"\u001b[39;00m\n\u001b[0;32m---> 37\u001b[0m     _, _, summary \u001b[38;5;241m=\u001b[39m \u001b[38;5;28;43mself\u001b[39;49m\u001b[38;5;241;43m.\u001b[39;49m\u001b[43mhandle\u001b[49m\u001b[43m(\u001b[49m\u001b[38;5;28;43mstr\u001b[39;49m\u001b[43m(\u001b[49m\u001b[43mdtype\u001b[49m\u001b[43m)\u001b[49m\u001b[43m,\u001b[49m\u001b[43m \u001b[49m\u001b[43mconfig\u001b[49m\u001b[43m,\u001b[49m\u001b[43m \u001b[49m\u001b[43mseries\u001b[49m\u001b[43m,\u001b[49m\u001b[43m \u001b[49m\u001b[43m{\u001b[49m\u001b[38;5;124;43m\"\u001b[39;49m\u001b[38;5;124;43mtype\u001b[39;49m\u001b[38;5;124;43m\"\u001b[39;49m\u001b[43m:\u001b[49m\u001b[43m \u001b[49m\u001b[38;5;28;43mstr\u001b[39;49m\u001b[43m(\u001b[49m\u001b[43mdtype\u001b[49m\u001b[43m)\u001b[49m\u001b[43m}\u001b[49m\u001b[43m)\u001b[49m\n\u001b[1;32m     38\u001b[0m     \u001b[38;5;28;01mreturn\u001b[39;00m summary\n",
      "File \u001b[0;32m/opt/homebrew/lib/python3.9/site-packages/pandas_profiling/model/handler.py:62\u001b[0m, in \u001b[0;36mHandler.handle\u001b[0;34m(self, dtype, *args, **kwargs)\u001b[0m\n\u001b[1;32m     60\u001b[0m funcs \u001b[38;5;241m=\u001b[39m \u001b[38;5;28mself\u001b[39m\u001b[38;5;241m.\u001b[39mmapping\u001b[38;5;241m.\u001b[39mget(dtype, [])\n\u001b[1;32m     61\u001b[0m op \u001b[38;5;241m=\u001b[39m compose(funcs)\n\u001b[0;32m---> 62\u001b[0m \u001b[38;5;28;01mreturn\u001b[39;00m \u001b[43mop\u001b[49m\u001b[43m(\u001b[49m\u001b[38;5;241;43m*\u001b[39;49m\u001b[43margs\u001b[49m\u001b[43m)\u001b[49m\n",
      "File \u001b[0;32m/opt/homebrew/lib/python3.9/site-packages/pandas_profiling/model/handler.py:21\u001b[0m, in \u001b[0;36mcompose.<locals>.func.<locals>.func2\u001b[0;34m(*x)\u001b[0m\n\u001b[1;32m     19\u001b[0m     \u001b[38;5;28;01mreturn\u001b[39;00m f(\u001b[38;5;241m*\u001b[39mx)\n\u001b[1;32m     20\u001b[0m \u001b[38;5;28;01melse\u001b[39;00m:\n\u001b[0;32m---> 21\u001b[0m     \u001b[38;5;28;01mreturn\u001b[39;00m \u001b[43mf\u001b[49m\u001b[43m(\u001b[49m\u001b[38;5;241;43m*\u001b[39;49m\u001b[43mres\u001b[49m\u001b[43m)\u001b[49m\n",
      "File \u001b[0;32m/opt/homebrew/lib/python3.9/site-packages/pandas_profiling/model/handler.py:21\u001b[0m, in \u001b[0;36mcompose.<locals>.func.<locals>.func2\u001b[0;34m(*x)\u001b[0m\n\u001b[1;32m     19\u001b[0m     \u001b[38;5;28;01mreturn\u001b[39;00m f(\u001b[38;5;241m*\u001b[39mx)\n\u001b[1;32m     20\u001b[0m \u001b[38;5;28;01melse\u001b[39;00m:\n\u001b[0;32m---> 21\u001b[0m     \u001b[38;5;28;01mreturn\u001b[39;00m \u001b[43mf\u001b[49m\u001b[43m(\u001b[49m\u001b[38;5;241;43m*\u001b[39;49m\u001b[43mres\u001b[49m\u001b[43m)\u001b[49m\n",
      "File \u001b[0;32m/opt/homebrew/lib/python3.9/site-packages/pandas_profiling/model/handler.py:21\u001b[0m, in \u001b[0;36mcompose.<locals>.func.<locals>.func2\u001b[0;34m(*x)\u001b[0m\n\u001b[1;32m     19\u001b[0m     \u001b[38;5;28;01mreturn\u001b[39;00m f(\u001b[38;5;241m*\u001b[39mx)\n\u001b[1;32m     20\u001b[0m \u001b[38;5;28;01melse\u001b[39;00m:\n\u001b[0;32m---> 21\u001b[0m     \u001b[38;5;28;01mreturn\u001b[39;00m \u001b[43mf\u001b[49m\u001b[43m(\u001b[49m\u001b[38;5;241;43m*\u001b[39;49m\u001b[43mres\u001b[49m\u001b[43m)\u001b[49m\n",
      "File \u001b[0;32m/opt/homebrew/lib/python3.9/site-packages/pandas_profiling/model/handler.py:17\u001b[0m, in \u001b[0;36mcompose.<locals>.func.<locals>.func2\u001b[0;34m(*x)\u001b[0m\n\u001b[1;32m     16\u001b[0m \u001b[38;5;28;01mdef\u001b[39;00m \u001b[38;5;21mfunc2\u001b[39m(\u001b[38;5;241m*\u001b[39mx) \u001b[38;5;241m-\u001b[39m\u001b[38;5;241m>\u001b[39m Any:\n\u001b[0;32m---> 17\u001b[0m     res \u001b[38;5;241m=\u001b[39m \u001b[43mg\u001b[49m\u001b[43m(\u001b[49m\u001b[38;5;241;43m*\u001b[39;49m\u001b[43mx\u001b[49m\u001b[43m)\u001b[49m\n\u001b[1;32m     18\u001b[0m     \u001b[38;5;28;01mif\u001b[39;00m \u001b[38;5;28mtype\u001b[39m(res) \u001b[38;5;241m==\u001b[39m \u001b[38;5;28mbool\u001b[39m:\n\u001b[1;32m     19\u001b[0m         \u001b[38;5;28;01mreturn\u001b[39;00m f(\u001b[38;5;241m*\u001b[39mx)\n",
      "File \u001b[0;32m/opt/homebrew/lib/python3.9/site-packages/multimethod/__init__.py:300\u001b[0m, in \u001b[0;36mmultimethod.__call__\u001b[0;34m(self, *args, **kwargs)\u001b[0m\n\u001b[1;32m    298\u001b[0m func \u001b[38;5;241m=\u001b[39m \u001b[38;5;28mself\u001b[39m[\u001b[38;5;28mtuple\u001b[39m(func(arg) \u001b[38;5;28;01mfor\u001b[39;00m func, arg \u001b[38;5;129;01min\u001b[39;00m \u001b[38;5;28mzip\u001b[39m(\u001b[38;5;28mself\u001b[39m\u001b[38;5;241m.\u001b[39mtype_checkers, args))]\n\u001b[1;32m    299\u001b[0m \u001b[38;5;28;01mtry\u001b[39;00m:\n\u001b[0;32m--> 300\u001b[0m     \u001b[38;5;28;01mreturn\u001b[39;00m \u001b[43mfunc\u001b[49m\u001b[43m(\u001b[49m\u001b[38;5;241;43m*\u001b[39;49m\u001b[43margs\u001b[49m\u001b[43m,\u001b[49m\u001b[43m \u001b[49m\u001b[38;5;241;43m*\u001b[39;49m\u001b[38;5;241;43m*\u001b[39;49m\u001b[43mkwargs\u001b[49m\u001b[43m)\u001b[49m\n\u001b[1;32m    301\u001b[0m \u001b[38;5;28;01mexcept\u001b[39;00m \u001b[38;5;167;01mTypeError\u001b[39;00m \u001b[38;5;28;01mas\u001b[39;00m ex:\n\u001b[1;32m    302\u001b[0m     \u001b[38;5;28;01mraise\u001b[39;00m DispatchError(\u001b[38;5;124mf\u001b[39m\u001b[38;5;124m\"\u001b[39m\u001b[38;5;124mFunction \u001b[39m\u001b[38;5;132;01m{\u001b[39;00mfunc\u001b[38;5;241m.\u001b[39m\u001b[38;5;18m__code__\u001b[39m\u001b[38;5;132;01m}\u001b[39;00m\u001b[38;5;124m\"\u001b[39m) \u001b[38;5;28;01mfrom\u001b[39;00m \u001b[38;5;21;01mex\u001b[39;00m\n",
      "File \u001b[0;32m/opt/homebrew/lib/python3.9/site-packages/pandas_profiling/model/summary_algorithms.py:65\u001b[0m, in \u001b[0;36mseries_hashable.<locals>.inner\u001b[0;34m(config, series, summary)\u001b[0m\n\u001b[1;32m     63\u001b[0m \u001b[38;5;28;01mif\u001b[39;00m \u001b[38;5;129;01mnot\u001b[39;00m summary[\u001b[38;5;124m\"\u001b[39m\u001b[38;5;124mhashable\u001b[39m\u001b[38;5;124m\"\u001b[39m]:\n\u001b[1;32m     64\u001b[0m     \u001b[38;5;28;01mreturn\u001b[39;00m config, series, summary\n\u001b[0;32m---> 65\u001b[0m \u001b[38;5;28;01mreturn\u001b[39;00m \u001b[43mfn\u001b[49m\u001b[43m(\u001b[49m\u001b[43mconfig\u001b[49m\u001b[43m,\u001b[49m\u001b[43m \u001b[49m\u001b[43mseries\u001b[49m\u001b[43m,\u001b[49m\u001b[43m \u001b[49m\u001b[43msummary\u001b[49m\u001b[43m)\u001b[49m\n",
      "File \u001b[0;32m/opt/homebrew/lib/python3.9/site-packages/pandas_profiling/model/summary_algorithms.py:82\u001b[0m, in \u001b[0;36mseries_handle_nulls.<locals>.inner\u001b[0;34m(config, series, summary)\u001b[0m\n\u001b[1;32m     79\u001b[0m \u001b[38;5;28;01mif\u001b[39;00m series\u001b[38;5;241m.\u001b[39mhasnans:\n\u001b[1;32m     80\u001b[0m     series \u001b[38;5;241m=\u001b[39m series\u001b[38;5;241m.\u001b[39mdropna()\n\u001b[0;32m---> 82\u001b[0m \u001b[38;5;28;01mreturn\u001b[39;00m \u001b[43mfn\u001b[49m\u001b[43m(\u001b[49m\u001b[43mconfig\u001b[49m\u001b[43m,\u001b[49m\u001b[43m \u001b[49m\u001b[43mseries\u001b[49m\u001b[43m,\u001b[49m\u001b[43m \u001b[49m\u001b[43msummary\u001b[49m\u001b[43m)\u001b[49m\n",
      "File \u001b[0;32m/opt/homebrew/lib/python3.9/site-packages/pandas_profiling/model/pandas/describe_categorical_pandas.py:206\u001b[0m, in \u001b[0;36mpandas_describe_categorical_1d\u001b[0;34m(config, series, summary)\u001b[0m\n\u001b[1;32m    203\u001b[0m     summary[\u001b[38;5;124m\"\u001b[39m\u001b[38;5;124mchi_squared\u001b[39m\u001b[38;5;124m\"\u001b[39m] \u001b[38;5;241m=\u001b[39m chi_square(histogram\u001b[38;5;241m=\u001b[39mvalue_counts\u001b[38;5;241m.\u001b[39mvalues)\n\u001b[1;32m    205\u001b[0m \u001b[38;5;28;01mif\u001b[39;00m config\u001b[38;5;241m.\u001b[39mvars\u001b[38;5;241m.\u001b[39mcat\u001b[38;5;241m.\u001b[39mlength:\n\u001b[0;32m--> 206\u001b[0m     summary\u001b[38;5;241m.\u001b[39mupdate(\u001b[43mlength_summary_vc\u001b[49m\u001b[43m(\u001b[49m\u001b[43mvalue_counts\u001b[49m\u001b[43m)\u001b[49m)\n\u001b[1;32m    207\u001b[0m     summary\u001b[38;5;241m.\u001b[39mupdate(\n\u001b[1;32m    208\u001b[0m         histogram_compute(\n\u001b[1;32m    209\u001b[0m             config,\n\u001b[0;32m   (...)\u001b[0m\n\u001b[1;32m    214\u001b[0m         )\n\u001b[1;32m    215\u001b[0m     )\n\u001b[1;32m    217\u001b[0m \u001b[38;5;28;01mif\u001b[39;00m config\u001b[38;5;241m.\u001b[39mvars\u001b[38;5;241m.\u001b[39mcat\u001b[38;5;241m.\u001b[39mcharacters:\n",
      "File \u001b[0;32m/opt/homebrew/lib/python3.9/site-packages/pandas_profiling/model/pandas/describe_categorical_pandas.py:163\u001b[0m, in \u001b[0;36mlength_summary_vc\u001b[0;34m(vc)\u001b[0m\n\u001b[1;32m    157\u001b[0m length_counts \u001b[38;5;241m=\u001b[39m length_counts\u001b[38;5;241m.\u001b[39mgroupby(level\u001b[38;5;241m=\u001b[39m\u001b[38;5;241m0\u001b[39m, sort\u001b[38;5;241m=\u001b[39m\u001b[38;5;28;01mFalse\u001b[39;00m)\u001b[38;5;241m.\u001b[39msum()\n\u001b[1;32m    158\u001b[0m length_counts \u001b[38;5;241m=\u001b[39m length_counts\u001b[38;5;241m.\u001b[39msort_values(ascending\u001b[38;5;241m=\u001b[39m\u001b[38;5;28;01mFalse\u001b[39;00m)\n\u001b[1;32m    160\u001b[0m summary \u001b[38;5;241m=\u001b[39m {\n\u001b[1;32m    161\u001b[0m     \u001b[38;5;124m\"\u001b[39m\u001b[38;5;124mmax_length\u001b[39m\u001b[38;5;124m\"\u001b[39m: np\u001b[38;5;241m.\u001b[39mmax(length_counts\u001b[38;5;241m.\u001b[39mindex),\n\u001b[1;32m    162\u001b[0m     \u001b[38;5;124m\"\u001b[39m\u001b[38;5;124mmean_length\u001b[39m\u001b[38;5;124m\"\u001b[39m: np\u001b[38;5;241m.\u001b[39maverage(length_counts\u001b[38;5;241m.\u001b[39mindex, weights\u001b[38;5;241m=\u001b[39mlength_counts\u001b[38;5;241m.\u001b[39mvalues),\n\u001b[0;32m--> 163\u001b[0m     \u001b[38;5;124m\"\u001b[39m\u001b[38;5;124mmedian_length\u001b[39m\u001b[38;5;124m\"\u001b[39m: \u001b[43mweighted_median\u001b[49m\u001b[43m(\u001b[49m\n\u001b[1;32m    164\u001b[0m \u001b[43m        \u001b[49m\u001b[43mlength_counts\u001b[49m\u001b[38;5;241;43m.\u001b[39;49m\u001b[43mindex\u001b[49m\u001b[38;5;241;43m.\u001b[39;49m\u001b[43mvalues\u001b[49m\u001b[43m,\u001b[49m\u001b[43m \u001b[49m\u001b[43mweights\u001b[49m\u001b[38;5;241;43m=\u001b[39;49m\u001b[43mlength_counts\u001b[49m\u001b[38;5;241;43m.\u001b[39;49m\u001b[43mvalues\u001b[49m\n\u001b[1;32m    165\u001b[0m \u001b[43m    \u001b[49m\u001b[43m)\u001b[49m,\n\u001b[1;32m    166\u001b[0m     \u001b[38;5;124m\"\u001b[39m\u001b[38;5;124mmin_length\u001b[39m\u001b[38;5;124m\"\u001b[39m: np\u001b[38;5;241m.\u001b[39mmin(length_counts\u001b[38;5;241m.\u001b[39mindex),\n\u001b[1;32m    167\u001b[0m     \u001b[38;5;124m\"\u001b[39m\u001b[38;5;124mlength_histogram\u001b[39m\u001b[38;5;124m\"\u001b[39m: length_counts,\n\u001b[1;32m    168\u001b[0m }\n\u001b[1;32m    170\u001b[0m \u001b[38;5;28;01mreturn\u001b[39;00m summary\n",
      "File \u001b[0;32m/opt/homebrew/lib/python3.9/site-packages/pandas_profiling/model/pandas/utils_pandas.py:13\u001b[0m, in \u001b[0;36mweighted_median\u001b[0;34m(data, weights)\u001b[0m\n\u001b[1;32m     11\u001b[0m midpoint \u001b[38;5;241m=\u001b[39m \u001b[38;5;241m0.5\u001b[39m \u001b[38;5;241m*\u001b[39m \u001b[38;5;28msum\u001b[39m(s_weights)\n\u001b[1;32m     12\u001b[0m \u001b[38;5;28;01mif\u001b[39;00m \u001b[38;5;28many\u001b[39m(weights \u001b[38;5;241m>\u001b[39m midpoint):\n\u001b[0;32m---> 13\u001b[0m     w_median \u001b[38;5;241m=\u001b[39m (\u001b[43mdata\u001b[49m\u001b[43m[\u001b[49m\u001b[43mweights\u001b[49m\u001b[43m \u001b[49m\u001b[38;5;241;43m==\u001b[39;49m\u001b[43m \u001b[49m\u001b[43mnp\u001b[49m\u001b[38;5;241;43m.\u001b[39;49m\u001b[43mmax\u001b[49m\u001b[43m(\u001b[49m\u001b[43mweights\u001b[49m\u001b[43m)\u001b[49m\u001b[43m]\u001b[49m)[\u001b[38;5;241m0\u001b[39m]\n\u001b[1;32m     14\u001b[0m \u001b[38;5;28;01melse\u001b[39;00m:\n\u001b[1;32m     15\u001b[0m     cs_weights \u001b[38;5;241m=\u001b[39m np\u001b[38;5;241m.\u001b[39mcumsum(s_weights)\n",
      "\u001b[0;31mIndexError\u001b[0m: only integers, slices (`:`), ellipsis (`...`), numpy.newaxis (`None`) and integer or boolean arrays are valid indices"
     ]
    },
    {
     "data": {
      "text/plain": []
     },
     "execution_count": 4,
     "metadata": {},
     "output_type": "execute_result"
    }
   ],
   "source": [
    "# show information about the unprocessed training data\n",
    "ProfileReport(train)"
   ]
  },
  {
   "cell_type": "code",
   "execution_count": null,
   "metadata": {},
   "outputs": [],
   "source": []
  }
 ],
 "metadata": {
  "colab": {
   "authorship_tag": "ABX9TyOAyt8ojK09NMdD+uK0O0pj",
   "collapsed_sections": [],
   "include_colab_link": true,
   "name": "Taller 1.ipynb",
   "provenance": []
  },
  "kernelspec": {
   "display_name": "Python 3 (ipykernel)",
   "language": "python",
   "name": "python3"
  },
  "language_info": {
   "codemirror_mode": {
    "name": "ipython",
    "version": 3
   },
   "file_extension": ".py",
   "mimetype": "text/x-python",
   "name": "python",
   "nbconvert_exporter": "python",
   "pygments_lexer": "ipython3",
   "version": "3.9.10"
  }
 },
 "nbformat": 4,
 "nbformat_minor": 1
}
